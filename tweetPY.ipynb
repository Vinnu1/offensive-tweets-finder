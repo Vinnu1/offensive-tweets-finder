{
 "cells": [
  {
   "cell_type": "code",
   "execution_count": null,
   "metadata": {},
   "outputs": [],
   "source": [
    "#import libraries\n",
    "from textblob import TextBlob\n",
    "from google.cloud import translate\n",
    "import json"
   ]
  },
  {
   "cell_type": "code",
   "execution_count": null,
   "metadata": {},
   "outputs": [],
   "source": [
    "#edit your project details\n",
    "project_id=\"your_project_id\"\n",
    "model_id ='general/base'\n",
    "model_path = 'projects/{}/locations/{}/models/{}'.format(project_id, 'global', model_id)\n",
    "keyFilename = 'path_to_filekey.json'\n",
    "\n",
    "client = translate.TranslationServiceClient.from_service_account_json(keyFilename)\n",
    "parent = client.location_path(project_id, \"global\")\n",
    "\n",
    "tweet_list = []"
   ]
  },
  {
   "cell_type": "code",
   "execution_count": null,
   "metadata": {},
   "outputs": [],
   "source": [
    "#translate function\n",
    "def translate_text(text):\n",
    "    response = client.translate_text(\n",
    "        parent=parent,\n",
    "        contents=[text],\n",
    "        mime_type=\"text/plain\",  \n",
    "        source_language_code=\"hi\",\n",
    "        target_language_code=\"en-US\",\n",
    "        model=model_path\n",
    "    )\n",
    "    return(response.translations[0].translated_text)"
   ]
  },
  {
   "cell_type": "code",
   "execution_count": null,
   "metadata": {},
   "outputs": [],
   "source": [
    "#get raw tweet data\n",
    "with open('tweets.json', errors='ignore') as filehandle:\n",
    "    tweet_rawlist = json.load(filehandle)"
   ]
  },
  {
   "cell_type": "code",
   "execution_count": 7,
   "metadata": {},
   "outputs": [],
   "source": [
    "#make tweet list\n",
    "for obj in tweet_rawlist:\n",
    "    t_data = obj['tweet']\n",
    "    lang = t_data['lang']\n",
    "    text = t_data['full_text']\n",
    "    \n",
    "    #translate if language is 'hindi'\n",
    "    if(lang == 'hi'):\n",
    "        text = translate_text(text)\n",
    "    elif(lang == 'und'):\n",
    "        continue\n",
    "    \n",
    "    sentiment = TextBlob(text).sentiment_assessments\n",
    "    polarity = sentiment.polarity\n",
    "    subjectivity = sentiment.subjectivity\n",
    "    score = sentiment.assessments\n",
    "    t_dict = {\n",
    "        'tweet': text, \n",
    "        'polarity': polarity,\n",
    "        'subjectivity': subjectivity,\n",
    "        'score': score,\n",
    "        'url': f\"https://twitter.com/your_twitter_username/status/{t_data['id']}\"\n",
    "    }\n",
    "    tweet_list.append(t_dict)"
   ]
  },
  {
   "cell_type": "code",
   "execution_count": null,
   "metadata": {},
   "outputs": [],
   "source": [
    "#Return polarity of tweet\n",
    "def takePolarity(tweet):\n",
    "    return tweet['polarity']"
   ]
  },
  {
   "cell_type": "code",
   "execution_count": null,
   "metadata": {
    "scrolled": false
   },
   "outputs": [],
   "source": [
    "#sort list in ascending order of polarity\n",
    "new_list = sorted(tweet_list, key=takePolarity)\n",
    "\n",
    "#print first 5 tweets \n",
    "for tweet in new_list[:5]:\n",
    "    print(tweet, '\\n')"
   ]
  }
 ],
 "metadata": {
  "kernelspec": {
   "display_name": "Python 3",
   "language": "python",
   "name": "python3"
  },
  "language_info": {
   "codemirror_mode": {
    "name": "ipython",
    "version": 3
   },
   "file_extension": ".py",
   "mimetype": "text/x-python",
   "name": "python",
   "nbconvert_exporter": "python",
   "pygments_lexer": "ipython3",
   "version": "3.7.1"
  }
 },
 "nbformat": 4,
 "nbformat_minor": 2
}
